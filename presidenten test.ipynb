{
 "cells": [
  {
   "cell_type": "code",
   "execution_count": 1,
   "metadata": {},
   "outputs": [],
   "source": [
    "import random"
   ]
  },
  {
   "cell_type": "code",
   "execution_count": 2,
   "metadata": {},
   "outputs": [],
   "source": [
    "def deel(spelers, dekken=1):\n",
    "    kaarten = ['1','2','3','4','5','6','7','8','9','10','J','Q','K']*4*dekken\n",
    "    random.shuffle(kaarten)\n",
    "    handen = [[] for _ in range(spelers)]\n",
    "    j = 0\n",
    "    for i in kaarten:\n",
    "        handen[j].append(i)\n",
    "        j = (j+1)*((j+1)%spelers!=0)\n",
    "    return handen\n",
    "\n",
    "def sort(hand):\n",
    "    values = {'1': 14, '2': 2, '3': 3, '4': 4, '5': 5, '6': 6, '7': 7, '8': 8, '9': 9, '10': 10, 'J': 11, 'Q':12, 'K':13}\n",
    "    hand.sort(key=lambda x: values[x])\n",
    "    print(hand)"
   ]
  },
  {
   "cell_type": "code",
   "execution_count": 3,
   "metadata": {},
   "outputs": [],
   "source": [
    "def waarde(hand):\n",
    "    values = {'1': 14, '2': 2, '3': 3, '4': 4, '5': 5, '6': 6, '7': 7, '8': 8, '9': 9, '10': 10, 'J': 11, 'Q':12, 'K':13}\n",
    "    hand.sort(key=lambda x:values[x])\n",
    "    return hand[-1]\n",
    "\n",
    "def check(nieuwhand, oudhand):\n",
    "    if len(nieuwhand) > len(oudhand):\n",
    "        return True\n",
    "    elif waarde(nieuwhand) > waarde(oudhand):\n",
    "        return True\n",
    "    else:\n",
    "        return False"
   ]
  },
  {
   "cell_type": "code",
   "execution_count": 47,
   "metadata": {},
   "outputs": [
    {
     "name": "stdout",
     "output_type": "stream",
     "text": [
      "['2', '3', '5', '7', '7', '8', '8', '9', '9', '10', 'J', 'Q', 'Q']\n"
     ]
    }
   ],
   "source": [
    "lijst = list(range(20))\n",
    "for i, j in enumerate(lijst):\n",
    "    print(i, j)\n",
    "\n"
   ]
  },
  {
   "cell_type": "code",
   "execution_count": 4,
   "metadata": {},
   "outputs": [
    {
     "data": {
      "text/plain": [
       "[['2', 'Q', '5', 'K', '9', '8', '6', '1', '8', '6', '2', '1', '10'],\n",
       " ['5', '4', '10', '4', 'J', 'J', '7', '5', '10', '7', '9', 'K', 'J'],\n",
       " ['8', '5', '4', '1', 'Q', 'Q', '8', '9', 'J', 'K', '1', '4', '2'],\n",
       " ['2', '3', 'K', '3', '6', '3', '7', '3', 'Q', '10', '7', '9', '6']]"
      ]
     },
     "execution_count": 4,
     "metadata": {},
     "output_type": "execute_result"
    }
   ],
   "source": [
    "deel(4)"
   ]
  },
  {
   "cell_type": "code",
   "execution_count": null,
   "metadata": {},
   "outputs": [],
   "source": []
  }
 ],
 "metadata": {
  "kernelspec": {
   "display_name": "Python 3",
   "language": "python",
   "name": "python3"
  },
  "language_info": {
   "codemirror_mode": {
    "name": "ipython",
    "version": 3
   },
   "file_extension": ".py",
   "mimetype": "text/x-python",
   "name": "python",
   "nbconvert_exporter": "python",
   "pygments_lexer": "ipython3",
   "version": "3.6.4"
  }
 },
 "nbformat": 4,
 "nbformat_minor": 2
}
